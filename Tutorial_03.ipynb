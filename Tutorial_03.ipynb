{
  "nbformat": 4,
  "nbformat_minor": 0,
  "metadata": {
    "colab": {
      "provenance": [],
      "authorship_tag": "ABX9TyPVLd9KbBZnz47NrdRlmGaO",
      "include_colab_link": true
    },
    "kernelspec": {
      "name": "python3",
      "display_name": "Python 3"
    },
    "language_info": {
      "name": "python"
    }
  },
  "cells": [
    {
      "cell_type": "markdown",
      "metadata": {
        "id": "view-in-github",
        "colab_type": "text"
      },
      "source": [
        "<a href=\"https://colab.research.google.com/github/Frh-2506/data-science-toolkit/blob/main/Tutorial_03.ipynb\" target=\"_parent\"><img src=\"https://colab.research.google.com/assets/colab-badge.svg\" alt=\"Open In Colab\"/></a>"
      ]
    },
    {
      "cell_type": "code",
      "source": [
        "import numpy as np\n",
        "list=[2,6,4,9]\n",
        "numpy_array=np.array(list).reshape(2,2)\n",
        "print(\"Numpy array 2x2:\\n\",numpy_array)"
      ],
      "metadata": {
        "colab": {
          "base_uri": "https://localhost:8080/"
        },
        "id": "_RgxIXnB3uXX",
        "outputId": "5bf77978-48c4-4485-8361-387ee34ea503"
      },
      "execution_count": 31,
      "outputs": [
        {
          "output_type": "stream",
          "name": "stdout",
          "text": [
            "Numpy array 2x2:\n",
            " [[2 6]\n",
            " [4 9]]\n"
          ]
        }
      ]
    },
    {
      "cell_type": "code",
      "source": [
        "import numpy as np\n",
        "random_array=np.random.rand(3,4)\n",
        "print(\"Random array 3X4:\\n\",random_array)"
      ],
      "metadata": {
        "colab": {
          "base_uri": "https://localhost:8080/"
        },
        "id": "W5jZLf2z92dh",
        "outputId": "1d450394-64ab-4300-a5c7-d88e654f0edd"
      },
      "execution_count": 46,
      "outputs": [
        {
          "output_type": "stream",
          "name": "stdout",
          "text": [
            "Random array 3X4:\n",
            " [[0.57089663 0.59887905 0.07475786 0.39476445]\n",
            " [0.34944131 0.24008733 0.38592615 0.31992228]\n",
            " [0.97307699 0.76863816 0.97047417 0.64601846]]\n"
          ]
        }
      ]
    },
    {
      "cell_type": "code",
      "source": [
        "import numpy as np\n",
        "zero_array=np.zeros((3,3))\n",
        "one_array=np.ones((4,3))\n",
        "print(\"Zeros array:\\n\",zero_array)\n",
        "print(\"Ones array:\\n\",one_array)"
      ],
      "metadata": {
        "colab": {
          "base_uri": "https://localhost:8080/"
        },
        "id": "ZUMLCfjJ-mt-",
        "outputId": "591f2217-f021-400a-e295-1d11c2f5f014"
      },
      "execution_count": 35,
      "outputs": [
        {
          "output_type": "stream",
          "name": "stdout",
          "text": [
            "Zeros array:\n",
            " [[0. 0. 0.]\n",
            " [0. 0. 0.]\n",
            " [0. 0. 0.]]\n",
            "Ones array:\n",
            " [[1. 1. 1.]\n",
            " [1. 1. 1.]\n",
            " [1. 1. 1.]\n",
            " [1. 1. 1.]]\n"
          ]
        }
      ]
    },
    {
      "cell_type": "code",
      "source": [
        "import numpy as np\n",
        "random_array=np.random.rand(6,3)\n",
        "print(\"Random array:\\n\",random_array)\n",
        "transpose_array=np.transpose(random_array)\n",
        "print(\"Transpose for random array:\\n\",transpose_array)"
      ],
      "metadata": {
        "colab": {
          "base_uri": "https://localhost:8080/"
        },
        "id": "eBPfy2PLAF03",
        "outputId": "7d6636e3-a12d-4f5c-9e40-c516049769fc"
      },
      "execution_count": 47,
      "outputs": [
        {
          "output_type": "stream",
          "name": "stdout",
          "text": [
            "Random array:\n",
            " [[0.50147352 0.76131477 0.44317449]\n",
            " [0.53973244 0.3160979  0.9465593 ]\n",
            " [0.52530235 0.6550594  0.59553143]\n",
            " [0.77073663 0.94164367 0.13785738]\n",
            " [0.8583822  0.56905021 0.40220028]\n",
            " [0.51256306 0.27902769 0.5977931 ]]\n",
            "Transpose for random array:\n",
            " [[0.50147352 0.53973244 0.52530235 0.77073663 0.8583822  0.51256306]\n",
            " [0.76131477 0.3160979  0.6550594  0.94164367 0.56905021 0.27902769]\n",
            " [0.44317449 0.9465593  0.59553143 0.13785738 0.40220028 0.5977931 ]]\n"
          ]
        }
      ]
    },
    {
      "cell_type": "code",
      "source": [
        "import numpy as np\n",
        "random_array1=np.random.rand(2,4)\n",
        "random_array2=np.random.rand(4,3)\n",
        "print(\"Array number 1:\\n\",random_array1)\n",
        "print(\"Array number 2:\\n\",random_array2)\n",
        "product=np.dot(random_array1,random_array2)\n",
        "print(\"Dot product:\\n\",product)\n"
      ],
      "metadata": {
        "colab": {
          "base_uri": "https://localhost:8080/"
        },
        "id": "2R4fWUazBxZ9",
        "outputId": "a0eef5e6-e01f-4ed9-ef0f-e37ebb257a94"
      },
      "execution_count": 43,
      "outputs": [
        {
          "output_type": "stream",
          "name": "stdout",
          "text": [
            "Array number 1:\n",
            " [[0.81096928 0.0063863  0.71450307 0.452597  ]\n",
            " [0.92192696 0.31568848 0.54487475 0.56477901]]\n",
            "Array number 2:\n",
            " [[0.57550114 0.77739318 0.29617231]\n",
            " [0.79907203 0.63620291 0.58068249]\n",
            " [0.69651446 0.88933382 0.45180544]\n",
            " [0.94697108 0.49808599 0.26032891]]\n",
            "Dot product:\n",
            " [[1.39807485 1.49536894 0.68453551]\n",
            " [1.69717038 1.68342572 0.84956969]]\n"
          ]
        }
      ]
    }
  ]
}